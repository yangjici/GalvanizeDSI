{
 "cells": [
  {
   "cell_type": "code",
   "execution_count": 53,
   "metadata": {
    "collapsed": true
   },
   "outputs": [],
   "source": [
    "import requests\n",
    "from bs4 import BeautifulSoup"
   ]
  },
  {
   "cell_type": "code",
   "execution_count": 54,
   "metadata": {
    "collapsed": true
   },
   "outputs": [],
   "source": [
    "ebay_url = 'http://www.ebay.com/sch/i.html?_from=R40&_trksid=m570.l1313&_nkw=board+games&_sacat=0'"
   ]
  },
  {
   "cell_type": "code",
   "execution_count": 55,
   "metadata": {
    "collapsed": true
   },
   "outputs": [],
   "source": [
    "response = requests.get(ebay_url)"
   ]
  },
  {
   "cell_type": "code",
   "execution_count": 56,
   "metadata": {
    "collapsed": false
   },
   "outputs": [],
   "source": [
    "soup = BeautifulSoup(response.text, \"html.parser\")"
   ]
  },
  {
   "cell_type": "code",
   "execution_count": 57,
   "metadata": {
    "collapsed": false
   },
   "outputs": [
    {
     "data": {
      "text/plain": [
       "<img alt=\"\" height=\"200\" id=\"gh-logo\" role=\"presentation\" src=\"http://ir.ebaystatic.com/rs/v/fxxj3ttftm5ltcqnto1o4baovyl.png\" style=\"clip:rect(47px, 118px, 95px, 0px); position:absolute; top:-47px;left:0\" width=\"250\"/>"
      ]
     },
     "execution_count": 57,
     "metadata": {},
     "output_type": "execute_result"
    }
   ],
   "source": [
    "soup.find('img')\n",
    "# soup.findAll('img')"
   ]
  },
  {
   "cell_type": "code",
   "execution_count": 58,
   "metadata": {
    "collapsed": false
   },
   "outputs": [
    {
     "data": {
      "text/plain": [
       "<a class=\"img imgWr2\" href=\"http://www.ebay.com/itm/Monopoly-The-Classic-Edition-Traditional-Family-Fun-Board-Game-New-/182358739743?hash=item2a756d8b1f:g:mzwAAOSwal5YL29R\">\\n<img alt=\"Monopoly The Classic Edition Traditional Family Fun Board Game, New\" class=\"img\" src=\"http://thumbs.ebaystatic.com/images/g/mzwAAOSwal5YL29R/s-l225.jpg\"/>\\n</a>"
      ]
     },
     "execution_count": 58,
     "metadata": {},
     "output_type": "execute_result"
    }
   ],
   "source": [
    "soup.find(class_='img imgWr2')"
   ]
  },
  {
   "cell_type": "code",
   "execution_count": 60,
   "metadata": {
    "collapsed": false
   },
   "outputs": [
    {
     "data": {
      "text/plain": [
       "u'http://thumbs.ebaystatic.com/images/g/mzwAAOSwal5YL29R/s-l225.jpg'"
      ]
     },
     "execution_count": 60,
     "metadata": {},
     "output_type": "execute_result"
    }
   ],
   "source": [
    "soup.find(class_='img imgWr2').img['src']"
   ]
  },
  {
   "cell_type": "code",
   "execution_count": null,
   "metadata": {
    "collapsed": true
   },
   "outputs": [],
   "source": []
  },
  {
   "cell_type": "code",
   "execution_count": null,
   "metadata": {
    "collapsed": true
   },
   "outputs": [],
   "source": []
  },
  {
   "cell_type": "code",
   "execution_count": null,
   "metadata": {
    "collapsed": true
   },
   "outputs": [],
   "source": []
  },
  {
   "cell_type": "code",
   "execution_count": null,
   "metadata": {
    "collapsed": true
   },
   "outputs": [],
   "source": []
  },
  {
   "cell_type": "code",
   "execution_count": null,
   "metadata": {
    "collapsed": true
   },
   "outputs": [],
   "source": []
  },
  {
   "cell_type": "code",
   "execution_count": null,
   "metadata": {
    "collapsed": true
   },
   "outputs": [],
   "source": []
  },
  {
   "cell_type": "code",
   "execution_count": null,
   "metadata": {
    "collapsed": true
   },
   "outputs": [],
   "source": []
  },
  {
   "cell_type": "code",
   "execution_count": 67,
   "metadata": {
    "collapsed": false
   },
   "outputs": [
    {
     "data": {
      "text/plain": [
       "[<a class=\"img imgWr2\" href=\"http://www.ebay.com/itm/Monopoly-The-Classic-Edition-Traditional-Family-Fun-Board-Game-New-/182358739743?hash=item2a756d8b1f:g:mzwAAOSwal5YL29R\">\\n<img alt=\"Monopoly The Classic Edition Traditional Family Fun Board Game, New\" class=\"img\" src=\"http://thumbs.ebaystatic.com/images/g/mzwAAOSwal5YL29R/s-l225.jpg\"/>\\n</a>,\n",
       " <a class=\"img imgWr2\" href=\"http://www.ebay.com/itm/PRETTY-PRETTY-PRINCESS-Cinderella-Style-Vintage-1999-Girls-Jewelry-Board-Game-/172610828896?hash=item2830683a60:g:6lkAAOSwU8hY4-1w\">\\n<img alt=\"PRETTY PRETTY PRINCESS Cinderella Style  Vintage 1999 Girls Jewelry Board Game\" class=\"img\" src=\"http://thumbs.ebaystatic.com/images/g/6lkAAOSwU8hY4-1w/s-l225.jpg\"/>\\n</a>,\n",
       " <a class=\"img imgWr2\" href=\"http://www.ebay.com/itm/Ravensburger-The-Castles-of-Burgundy-Board-Game-81243-New-/381677923705?hash=item58ddc6ed79:g:F-0AAOSwux5YRQ0F\">\\n<img alt=\"Ravensburger The Castles of Burgundy Board Game 81243 New\" class=\"img\" src=\"http://thumbs.ebaystatic.com/images/g/F-0AAOSwux5YRQ0F/s-l225.jpg\"/>\\n</a>,\n",
       " <a class=\"img imgWr2\" href=\"http://pulsar.ebay.com/plsr/clk/0/SADS/9?pld=%7B%22mecs%22%3A%2220184546303824bfa46819fe4d2890613e5eed831b9a%22%2C%22enc%22%3A%22AQABAAACULmQa24OtTHRaocrSZUBEXdmpcpnMcMg3BKmpB%2FLbtVAY9S0yumCmLAr9AolcvWJQ2Lx6KHJRca9gXRDbnJMhTxkThRF9Bs6cZS7QJ6f4SivyukzcTU%2B2t3%2B1VqGMYGdpGmsjJQum5PJnEmbjVpyBfMbSVsDiArfShbYQYwuMyL4jOfOMGVtlOrofZB%2FrioGP2fcdbu6EYVSEQ%2Bgohk8Mn6JmhY9i4TaagftwpYMr8rVsI0QpVWlcahLVwfY%2Bj9b2DX7ULaE2yGw9x%2BF%2Fs96i3kCv05UfJBoywIxs6IJuPYGjAnU3leJqAizq5sfPWy2bPNmudnloI9ZBmF2%2FPATl1m%2BmjLjs5PmPhFD58676pQ91aIbquObbHD8%2FmPbnjJJLUhNufzu44w5eYFoQt2Xgf7u2y49oqFZS6%2FDnTlWUZpytTCOjeT7%2FCAmHnoxasLzYV762n6bDZ1VYVXZLaI6HDoxgWtal%2F3dQQqgLY%2FxSbZ0guffnb20EFmx5Oq27YOWS9J7ReN5%2FYuE%2F2Hx3b7tNaM%2Fi5unAfOdKH5fXJnUxSkuKRRhJdxNjgE6NrDe0QyBVdzw0qvTLomCO6TLanU7xVi9cTeAD6d2XPCY5zRygmfx8zmCVbVXp6wAwV0AP7iBys4PxKF1U06bdqi%2Fm0wuhiAFz83aK2e1bWDnHXFHLEk1K6dpaxlmkVd%2BDmfsygX9o%2Bjyt1zkkLUZUMTgoCQ9J8Rnm4CouubEO%2FbNsEP09x%2B%2F3EQbPeD%2F5C62BSWggrn54s1SOX3U1eRPJVF6zwmgK4A%3D%22%7D\">\\n<img alt=\"Oracle Of Delphi,The Board Game 2 - 4 Players\" class=\"img\" src=\"http://thumbs.ebaystatic.com/images/m/mHeNAxashtJ52VqLAUabdTw/s-l225.jpg\"/>\\n</a>,\n",
       " <a class=\"img imgWr2\" href=\"http://pulsar.ebay.com/plsr/clk/0/SADS/9?pld=%7B%22mecs%22%3A%222224589274076e7152629e5b4ac09b1d50f3cb763101%22%2C%22enc%22%3A%22AQABAAACQLmQa24OtTHRaocrSZUBEXfPMOwdZOymxQQ1A1iswcHfpGHQziAAXxPQTvBAp0NWl5CIW5EB7D3TdKvqKdZgccORH55fQTXJ5WdMvGCzp5RmssjI2NNsLJQMHXWaZrB0O%2FjKaFI2F9Br725vUtbWuaTbQt1Ri%2BvSquRx2ATfmUwEFL0uoEdTDg0Zj90rh5jfTJ%2FmpKRW4lOt%2FV5E3D%2BwlgmoK08CD4YEC4PjqZNrB46fJhvPRL7Bt41DOG9JrxGVmGb%2Fl1BZIi3Q6NN0j1esBvNRyeFF2qvgALrk0jpjHpIwFaQzXkHz%2BB4R6wuMEdHCbh19yKrkdV9K%2BxF9ZCUKOce9x%2Fn0sKimCCT7PAr4pE2aIN7nn6cbBbkCVHZbU%2BHDG1LeTjdaLj023EVaoKG8GT3n%2F%2FopNPFya%2FDLtThhLDzQ9DuoqmhisJHxxYN4z3y2BVE1scJkUuwtlJoN44yyQgsQXQMYUVAPhbG1UIUaLe%2BbKbUpabCxoOgNzfdFq2oC%2B2u4eWfmAluj9on4VJ%2ByPz1S%2F35vCzhjrs3Ej6o9wr5uVFvfo0wXpSGm1mGeLzG56OgGq4CStLHk%2Fwf%2BQ6qeT9nmCmO%2FnfnUsfS4q6On7DKwRlsuU%2BOW%2F3un%2FW9ytVcXuQNEsJZ8tdFQ78dExMqooTJIpZGjqEZbRiDv8qRpsy8ZAp0s6srphqkqG1jD5GPu8JSXT1vSDr2tNTk9EUtSaNkuqIbTYeOskmJV0NF%2FVfdm2Xkv%2B%2F9Ir3nWTV7OUoQvww%3D%3D%22%7D\">\\n<img alt=\"In Kahoots - A Party Board Game\" class=\"img\" src=\"http://thumbs.ebaystatic.com/images/m/mnQjAY1uRvLaqFmPmZ_UT3g/s-l225.jpg\"/>\\n</a>,\n",
       " <a class=\"img imgWr2\" href=\"http://www.ebay.com/itm/Settlers-of-Catan-Board-Game-5th-Edition-NEW-Free-Shipping-/282305304566?hash=item41bab517f6:g:-n0AAOSw241YYsqG\">\\n<img alt=\"Settlers of Catan Board Game 5th Edition NEW Free Shipping\" class=\"img\" src=\"http://thumbs.ebaystatic.com/images/g/-n0AAOSw241YYsqG/s-l225.jpg\"/>\\n</a>,\n",
       " <a class=\"img imgWr2\" href=\"http://www.ebay.com/itm/CASHFLOW-101-and-202-board-games-/272614444486?hash=item3f79164dc6:g:hQUAAOSwhQhY3~l1\">\\n<img alt=\"CASHFLOW 101 and 202 board games\" class=\"img\" src=\"http://thumbs.ebaystatic.com/images/g/hQUAAOSwhQhY3~l1/s-l225.jpg\"/>\\n</a>,\n",
       " <a class=\"img imgWr2\" href=\"http://www.ebay.com/itm/Cthulhu-Collectors-Edition-Monopoly-Board-Game-/282256261621?hash=item41b7c8c1f5:g:JJoAAOSw2gxYoCmu\">\\n<img alt=\"Cthulhu Collector's Edition Monopoly Board Game\" class=\"img\" src=\"http://thumbs.ebaystatic.com/images/g/JJoAAOSw2gxYoCmu/s-l225.jpg\"/>\\n</a>,\n",
       " <a class=\"img imgWr2\" href=\"http://www.ebay.com/itm/Operation-Game-Classic-Version-by-Hasbro-Family-Board-Game-NEW-Free-Shipping-/231840802353?hash=item35fac9e631:g:1LEAAOSw5cNYW9nF\">\\n<img alt=\"Operation Game (Classic Version) by Hasbro Family Board Game - NEW Free Shipping\" class=\"img\" src=\"http://thumbs.ebaystatic.com/images/g/1LEAAOSw5cNYW9nF/s-l225.jpg\"/>\\n</a>,\n",
       " <a class=\"img imgWr2\" href=\"http://www.ebay.com/itm/Jim-Hensons-Labyrinth-Board-Game-River-Horse-NEW-Sealed-IN-STOCK-David-Bowie-/172600202931?hash=item282fc616b3:g:EV4AAOSwuxFY2-i3\">\\n<img alt=\"Jim Henson's Labyrinth Board Game River Horse  NEW Sealed IN STOCK David Bowie\" class=\"img\" src=\"http://thumbs.ebaystatic.com/images/g/EV4AAOSwuxFY2-i3/s-l225.jpg\"/>\\n</a>,\n",
       " <a class=\"img imgWr2\" href=\"http://www.ebay.com/itm/Hasbro-A3264-Battleship-Game-Board-Games-/311790676192?hash=item48982c28e0:g:tSMAAOSwImRYji9c\">\\n<img alt=\"Hasbro A3264 Battleship Game Board Games\" class=\"img\" src=\"http://thumbs.ebaystatic.com/images/g/tSMAAOSwImRYji9c/s-l225.jpg\"/>\\n</a>,\n",
       " <a class=\"img imgWr2\" href=\"http://www.ebay.com/itm/Monopoly-The-Classic-Edition-Traditional-Family-Fun-Board-Game-Property-Trading-/252775131356?hash=item3ada9268dc:g:duUAAOSw2xRYjHfc\">\\n<img alt=\"Monopoly The Classic Edition Traditional Family Fun Board Game Property Trading\" class=\"img\" src=\"http://thumbs.ebaystatic.com/images/g/duUAAOSw2xRYjHfc/s-l225.jpg\"/>\\n</a>,\n",
       " <a class=\"img imgWr2\" href=\"http://www.ebay.com/itm/Dixie-Board-Game-Unpunched-S-T-No-54-/152497920539?hash=item2381959a1b:g:dUwAAOSwmLlX9Zyb\">\\n<img alt=\"Dixie Board Game - Unpunched - S&amp;T No. 54\" class=\"img\" src=\"http://thumbs.ebaystatic.com/images/g/dUwAAOSwmLlX9Zyb/s-l225.jpg\"/>\\n</a>,\n",
       " <a class=\"img imgWr2\" href=\"http://www.ebay.com/itm/Eldritch-Horror-The-Dreamlands-Expansion-Board-Game-Fantasy-Flight-Horror-/401280647790?hash=item5d6e30c26e:g:LKcAAOSwWxNYwdfd\">\\n<img alt=\"Eldritch Horror The Dreamlands Expansion [Board Game, Fantasy Flight, Horror]\" class=\"img\" src=\"http://thumbs.ebaystatic.com/images/g/LKcAAOSwWxNYwdfd/s-l225.jpg\"/>\\n</a>,\n",
       " <a class=\"img imgWr2\" href=\"http://www.ebay.com/itm/Hasbro-A3264-Battleship-Game-Board-Games-NIB-Free-Shipping-/272626593392?hash=item3f79cfae70:g:5IkAAOSwB-1Y7EfO\">\\n<img alt=\"Hasbro A3264 Battleship Game Board Games - NIB - Free Shipping\" class=\"img\" src=\"http://thumbs.ebaystatic.com/images/g/5IkAAOSwB-1Y7EfO/s-l225.jpg\"/>\\n</a>,\n",
       " <a class=\"img imgWr2\" href=\"http://www.ebay.com/itm/The-Pillars-Of-The-Earth-Board-Game-COMPLETE-Mint-Condition-/302280212234?hash=item46614dff0a:g:MGUAAOSwrddY7P7t\">\\n<img alt=\"The Pillars Of The Earth Board Game - COMPLETE! Mint Condition\" class=\"img\" src=\"http://thumbs.ebaystatic.com/images/g/MGUAAOSwrddY7P7t/s-l225.jpg\"/>\\n</a>,\n",
       " <a class=\"img imgWr2\" href=\"http://www.ebay.com/itm/Sorry-2013-Edition-Board-Game-by-Hasbro-NEW-Free-Shipping-/231817026496?hash=item35f95f1bc0:g:1L8AAOSwo4pYWxOQ\">\\n<img alt=\"Sorry! 2013 Edition Board Game by Hasbro - NEW Free Shipping\" class=\"img\" src=\"http://thumbs.ebaystatic.com/images/g/1L8AAOSwo4pYWxOQ/s-l225.jpg\"/>\\n</a>,\n",
       " <a class=\"img imgWr2\" href=\"http://www.ebay.com/itm/ROBINSON-CRUSOE-ADVENTURES-ON-THE-CURSED-ISLAND-2ND-EDITION-BOARD-GAME-NEW-/361900753460?hash=item5442f74234:g:yDIAAOSwopRYlBDA\">\\n<img alt=\"ROBINSON CRUSOE ADVENTURES ON THE CURSED ISLAND 2ND EDITION BOARD GAME NEW\" class=\"img\" src=\"http://thumbs.ebaystatic.com/images/g/yDIAAOSwopRYlBDA/s-l225.jpg\"/>\\n</a>,\n",
       " <a class=\"img imgWr2\" href=\"http://www.ebay.com/itm/Scythe-Board-Game-Stonemaier-NEW-Factory-Sealed-IN-STOCK-/172453483331?hash=item2827075343:g:tlUAAOSw65FXqgsD\">\\n<img alt=\"Scythe Board Game - Stonemaier - NEW Factory Sealed. *IN STOCK*\" class=\"img\" src=\"http://thumbs.ebaystatic.com/images/g/tlUAAOSw65FXqgsD/s-l225.jpg\"/>\\n</a>,\n",
       " <a class=\"img imgWr2\" href=\"http://www.ebay.com/itm/Complete-BattleLore-1st-Edition-Board-Game-Set-w-All-9-Original-Expansions-/272614452211?hash=item3f79166bf3:g:yfQAAOSwWxNY1aqb\">\\n<img alt=\"Complete BattleLore 1st Edition Board Game Set (w/All 9 Original Expansions)\" class=\"img\" src=\"http://thumbs.ebaystatic.com/images/g/yfQAAOSwWxNY1aqb/s-l225.jpg\"/>\\n</a>,\n",
       " <a class=\"img imgWr2\" href=\"http://www.ebay.com/itm/1990-SONGBURST-50s-AND-60s-EDITION-Board-Game-SEALED-NEW-COMPLETE-THE-LYRIC-/272591029843?hash=item3f77b10653:g:UlAAAOSwB-1YyURw\">\\n<img alt=\"1990 SONGBURST 50s AND 60s EDITION Board Game SEALED NEW COMPLETE THE LYRIC\" class=\"img\" src=\"http://thumbs.ebaystatic.com/images/g/UlAAAOSwB-1YyURw/s-l225.jpg\"/>\\n</a>]"
      ]
     },
     "execution_count": 67,
     "metadata": {},
     "output_type": "execute_result"
    }
   ],
   "source": [
    "soup.findAll(class_='img imgWr2')"
   ]
  },
  {
   "cell_type": "code",
   "execution_count": 64,
   "metadata": {
    "collapsed": false,
    "scrolled": true
   },
   "outputs": [
    {
     "data": {
      "text/plain": [
       "u'Click this link to access Monopoly The Classic Edition Traditional Family Fun Board Game, New'"
      ]
     },
     "execution_count": 64,
     "metadata": {},
     "output_type": "execute_result"
    }
   ],
   "source": [
    "soup.find(class_='lvtitle').a['title']"
   ]
  },
  {
   "cell_type": "code",
   "execution_count": 65,
   "metadata": {
    "collapsed": false
   },
   "outputs": [
    {
     "data": {
      "text/plain": [
       "u'Click this link to access Monopoly The Classic Edition Traditional Family Fun Board Game, New'"
      ]
     },
     "execution_count": 65,
     "metadata": {},
     "output_type": "execute_result"
    }
   ],
   "source": [
    "soup.find('h3',class_='lvtitle').a['title']"
   ]
  },
  {
   "cell_type": "code",
   "execution_count": 66,
   "metadata": {
    "collapsed": false
   },
   "outputs": [
    {
     "data": {
      "text/plain": [
       "u'http://www.ebay.com/itm/Monopoly-The-Classic-Edition-Traditional-Family-Fun-Board-Game-New-/182358739743?hash=item2a756d8b1f:g:mzwAAOSwal5YL29R'"
      ]
     },
     "execution_count": 66,
     "metadata": {},
     "output_type": "execute_result"
    }
   ],
   "source": [
    "soup.find('a',class_='vip')['href']#.a['title']"
   ]
  },
  {
   "cell_type": "code",
   "execution_count": null,
   "metadata": {
    "collapsed": true
   },
   "outputs": [],
   "source": []
  }
 ],
 "metadata": {
  "kernelspec": {
   "display_name": "Python 2",
   "language": "python",
   "name": "python2"
  },
  "language_info": {
   "codemirror_mode": {
    "name": "ipython",
    "version": 2
   },
   "file_extension": ".py",
   "mimetype": "text/x-python",
   "name": "python",
   "nbconvert_exporter": "python",
   "pygments_lexer": "ipython2",
   "version": "2.7.13"
  }
 },
 "nbformat": 4,
 "nbformat_minor": 0
}
