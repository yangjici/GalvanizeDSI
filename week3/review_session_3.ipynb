{
 "cells": [
  {
   "cell_type": "markdown",
   "metadata": {
    "slideshow": {
     "slide_type": "slide"
    }
   },
   "source": [
    "# Probability & Odds"
   ]
  },
  {
   "cell_type": "markdown",
   "metadata": {
    "slideshow": {
     "slide_type": "slide"
    }
   },
   "source": [
    "## Probability:"
   ]
  },
  {
   "cell_type": "markdown",
   "metadata": {
    "slideshow": {
     "slide_type": "fragment"
    }
   },
   "source": [
    "$p \\in [0,1]$"
   ]
  },
  {
   "cell_type": "markdown",
   "metadata": {
    "slideshow": {
     "slide_type": "fragment"
    }
   },
   "source": [
    " $p \\sim \\frac{\\#successes}{\\#trials}$"
   ]
  },
  {
   "cell_type": "code",
   "execution_count": 1,
   "metadata": {
    "collapsed": true
   },
   "outputs": [],
   "source": [
    "import numpy as np"
   ]
  },
  {
   "cell_type": "code",
   "execution_count": 2,
   "metadata": {
    "collapsed": false
   },
   "outputs": [
    {
     "data": {
      "text/plain": [
       "array([[40, 10, 17, 14, 15],\n",
       "       [27, 42, 11, 25, 15],\n",
       "       [43,  3, 26, 48,  7],\n",
       "       [ 3, 42,  9, 22, 38],\n",
       "       [41, 41,  9, 25, 35],\n",
       "       [49,  1, 47, 10, 28],\n",
       "       [10,  4, 29, 42,  9],\n",
       "       [ 5, 35, 19, 15, 29],\n",
       "       [37, 47, 40, 27, 39],\n",
       "       [ 7,  6, 10, 27, 11]])"
      ]
     },
     "execution_count": 2,
     "metadata": {},
     "output_type": "execute_result"
    }
   ],
   "source": [
    "foo = np.random.randint(50, size = (10,5))\n",
    "foo"
   ]
  },
  {
   "cell_type": "code",
   "execution_count": 3,
   "metadata": {
    "collapsed": false
   },
   "outputs": [
    {
     "data": {
      "text/plain": [
       "array([[False, False, False, False, False],\n",
       "       [False, False, False, False, False],\n",
       "       [False,  True, False, False,  True],\n",
       "       [ True, False,  True, False, False],\n",
       "       [False, False,  True, False, False],\n",
       "       [False,  True, False, False, False],\n",
       "       [False,  True, False, False,  True],\n",
       "       [ True, False, False, False, False],\n",
       "       [False, False, False, False, False],\n",
       "       [ True,  True, False, False, False]], dtype=bool)"
      ]
     },
     "execution_count": 3,
     "metadata": {},
     "output_type": "execute_result"
    }
   ],
   "source": [
    "(foo < 10)"
   ]
  },
  {
   "cell_type": "code",
   "execution_count": 5,
   "metadata": {
    "collapsed": false
   },
   "outputs": [
    {
     "data": {
      "text/plain": [
       "array([False, False, False, False, False], dtype=bool)"
      ]
     },
     "execution_count": 5,
     "metadata": {},
     "output_type": "execute_result"
    }
   ],
   "source": [
    "(foo < 10).all(axis=0)"
   ]
  },
  {
   "cell_type": "code",
   "execution_count": 6,
   "metadata": {
    "collapsed": false
   },
   "outputs": [
    {
     "data": {
      "text/plain": [
       "array([False, False,  True,  True,  True,  True,  True,  True, False,  True], dtype=bool)"
      ]
     },
     "execution_count": 6,
     "metadata": {},
     "output_type": "execute_result"
    }
   ],
   "source": [
    "mask = (foo < 10).any(axis=1)\n",
    "mask"
   ]
  },
  {
   "cell_type": "code",
   "execution_count": 7,
   "metadata": {
    "collapsed": false
   },
   "outputs": [
    {
     "data": {
      "text/plain": [
       "array([[43,  3, 26, 48,  7],\n",
       "       [ 3, 42,  9, 22, 38],\n",
       "       [41, 41,  9, 25, 35],\n",
       "       [49,  1, 47, 10, 28],\n",
       "       [10,  4, 29, 42,  9],\n",
       "       [ 5, 35, 19, 15, 29],\n",
       "       [ 7,  6, 10, 27, 11]])"
      ]
     },
     "execution_count": 7,
     "metadata": {},
     "output_type": "execute_result"
    }
   ],
   "source": [
    "foo[mask]"
   ]
  },
  {
   "cell_type": "code",
   "execution_count": 8,
   "metadata": {
    "collapsed": false
   },
   "outputs": [
    {
     "data": {
      "text/plain": [
       "array([[27, 42, 11, 25, 15],\n",
       "       [40, 10, 17, 14, 15],\n",
       "       [ 3, 42,  9, 22, 38],\n",
       "       [27, 42, 11, 25, 15]])"
      ]
     },
     "execution_count": 8,
     "metadata": {},
     "output_type": "execute_result"
    }
   ],
   "source": [
    "foo[[1, 0, 3, 1]]"
   ]
  },
  {
   "cell_type": "code",
   "execution_count": 9,
   "metadata": {
    "collapsed": false
   },
   "outputs": [
    {
     "data": {
      "text/plain": [
       "array([[40, 10, 17, 14, 15],\n",
       "       [27, 42, 11, 25, 15],\n",
       "       [43,  3, 26, 48,  7],\n",
       "       [ 3, 42,  9, 22, 38],\n",
       "       [41, 41,  9, 25, 35],\n",
       "       [49,  1, 47, 10, 28],\n",
       "       [10,  4, 29, 42,  9],\n",
       "       [ 5, 35, 19, 15, 29],\n",
       "       [37, 47, 40, 27, 39],\n",
       "       [ 7,  6, 10, 27, 11]])"
      ]
     },
     "execution_count": 9,
     "metadata": {},
     "output_type": "execute_result"
    }
   ],
   "source": [
    "foo"
   ]
  },
  {
   "cell_type": "code",
   "execution_count": 12,
   "metadata": {
    "collapsed": false
   },
   "outputs": [
    {
     "data": {
      "text/plain": [
       "array([[27, 42, 11, 25, 15],\n",
       "       [ 3, 42,  9, 22, 38],\n",
       "       [49,  1, 47, 10, 28],\n",
       "       [ 5, 35, 19, 15, 29]])"
      ]
     },
     "execution_count": 12,
     "metadata": {},
     "output_type": "execute_result"
    }
   ],
   "source": [
    "foo[1:-1:2]"
   ]
  },
  {
   "cell_type": "code",
   "execution_count": 13,
   "metadata": {
    "collapsed": true
   },
   "outputs": [],
   "source": [
    "column_mask = (foo < 10).any(axis=0)"
   ]
  },
  {
   "cell_type": "code",
   "execution_count": 14,
   "metadata": {
    "collapsed": false
   },
   "outputs": [
    {
     "data": {
      "text/plain": [
       "array([ True,  True,  True, False,  True], dtype=bool)"
      ]
     },
     "execution_count": 14,
     "metadata": {},
     "output_type": "execute_result"
    }
   ],
   "source": [
    "column_mask"
   ]
  },
  {
   "cell_type": "code",
   "execution_count": 16,
   "metadata": {
    "collapsed": false
   },
   "outputs": [
    {
     "name": "stderr",
     "output_type": "stream",
     "text": [
      "/usr/local/lib/python2.7/site-packages/ipykernel/__main__.py:1: VisibleDeprecationWarning: boolean index did not match indexed array along dimension 0; dimension is 10 but corresponding boolean dimension is 5\n",
      "  if __name__ == '__main__':\n"
     ]
    },
    {
     "data": {
      "text/plain": [
       "array([[40, 10, 17, 14, 15],\n",
       "       [27, 42, 11, 25, 15],\n",
       "       [43,  3, 26, 48,  7],\n",
       "       [41, 41,  9, 25, 35]])"
      ]
     },
     "execution_count": 16,
     "metadata": {},
     "output_type": "execute_result"
    }
   ],
   "source": [
    "foo[column_mask]"
   ]
  },
  {
   "cell_type": "code",
   "execution_count": null,
   "metadata": {
    "collapsed": false
   },
   "outputs": [],
   "source": [
    "foo"
   ]
  },
  {
   "cell_type": "code",
   "execution_count": 20,
   "metadata": {
    "collapsed": false
   },
   "outputs": [
    {
     "data": {
      "text/plain": [
       "(10, 1)"
      ]
     },
     "execution_count": 20,
     "metadata": {},
     "output_type": "execute_result"
    }
   ],
   "source": [
    "bar = np.arange(10).reshape(10,1)\n",
    "bar.shape"
   ]
  },
  {
   "cell_type": "code",
   "execution_count": 24,
   "metadata": {
    "collapsed": false
   },
   "outputs": [
    {
     "data": {
      "text/plain": [
       "array([[40, 10, 17, 14, 15],\n",
       "       [27, 42, 11, 25, 15],\n",
       "       [43,  3, 26, 48,  7],\n",
       "       [ 3, 42,  9, 22, 38],\n",
       "       [41, 41,  9, 25, 35],\n",
       "       [49,  1, 47, 10, 28],\n",
       "       [10,  4, 29, 42,  9],\n",
       "       [ 5, 35, 19, 15, 29],\n",
       "       [37, 47, 40, 27, 39],\n",
       "       [ 7,  6, 10, 27, 11],\n",
       "       [ 0,  1,  2,  3,  4]])"
      ]
     },
     "execution_count": 24,
     "metadata": {},
     "output_type": "execute_result"
    }
   ],
   "source": [
    "np.concatenate((foo, bar[:5].reshape(1,5)), axis=0)"
   ]
  },
  {
   "cell_type": "code",
   "execution_count": 25,
   "metadata": {
    "collapsed": false
   },
   "outputs": [
    {
     "data": {
      "text/plain": [
       "array([[40, 10, 17, 14, 15,  0],\n",
       "       [27, 42, 11, 25, 15,  1],\n",
       "       [43,  3, 26, 48,  7,  2],\n",
       "       [ 3, 42,  9, 22, 38,  3],\n",
       "       [41, 41,  9, 25, 35,  4],\n",
       "       [49,  1, 47, 10, 28,  5],\n",
       "       [10,  4, 29, 42,  9,  6],\n",
       "       [ 5, 35, 19, 15, 29,  7],\n",
       "       [37, 47, 40, 27, 39,  8],\n",
       "       [ 7,  6, 10, 27, 11,  9]])"
      ]
     },
     "execution_count": 25,
     "metadata": {},
     "output_type": "execute_result"
    }
   ],
   "source": [
    "np.hstack((foo,bar))"
   ]
  },
  {
   "cell_type": "code",
   "execution_count": 26,
   "metadata": {
    "collapsed": false
   },
   "outputs": [
    {
     "data": {
      "text/plain": [
       "array([[40, 10, 17, 14, 15],\n",
       "       [27, 42, 11, 25, 15],\n",
       "       [43,  3, 26, 48,  7],\n",
       "       [ 3, 42,  9, 22, 38],\n",
       "       [41, 41,  9, 25, 35],\n",
       "       [49,  1, 47, 10, 28],\n",
       "       [10,  4, 29, 42,  9],\n",
       "       [ 5, 35, 19, 15, 29],\n",
       "       [37, 47, 40, 27, 39],\n",
       "       [ 7,  6, 10, 27, 11],\n",
       "       [ 0,  1,  2,  3,  4]])"
      ]
     },
     "execution_count": 26,
     "metadata": {},
     "output_type": "execute_result"
    }
   ],
   "source": [
    "np.vstack((foo,bar[:5].reshape(1,5)))"
   ]
  },
  {
   "cell_type": "code",
   "execution_count": 27,
   "metadata": {
    "collapsed": false
   },
   "outputs": [
    {
     "data": {
      "text/plain": [
       "array([[40, 10, 17, 14, 15,  0],\n",
       "       [27, 42, 11, 25, 15,  1],\n",
       "       [43,  3, 26, 48,  7,  2],\n",
       "       [ 3, 42,  9, 22, 38,  3],\n",
       "       [41, 41,  9, 25, 35,  4],\n",
       "       [49,  1, 47, 10, 28,  5],\n",
       "       [10,  4, 29, 42,  9,  6],\n",
       "       [ 5, 35, 19, 15, 29,  7],\n",
       "       [37, 47, 40, 27, 39,  8],\n",
       "       [ 7,  6, 10, 27, 11,  9]])"
      ]
     },
     "execution_count": 27,
     "metadata": {},
     "output_type": "execute_result"
    }
   ],
   "source": [
    "np.column_stack((foo, bar))"
   ]
  },
  {
   "cell_type": "code",
   "execution_count": 28,
   "metadata": {
    "collapsed": false
   },
   "outputs": [
    {
     "data": {
      "text/plain": [
       "array([[40, 10, 17, 14, 15],\n",
       "       [27, 42, 11, 25, 15],\n",
       "       [43,  3, 26, 48,  7],\n",
       "       [ 3, 42,  9, 22, 38],\n",
       "       [41, 41,  9, 25, 35],\n",
       "       [49,  1, 47, 10, 28],\n",
       "       [10,  4, 29, 42,  9],\n",
       "       [ 5, 35, 19, 15, 29],\n",
       "       [37, 47, 40, 27, 39],\n",
       "       [ 7,  6, 10, 27, 11]])"
      ]
     },
     "execution_count": 28,
     "metadata": {},
     "output_type": "execute_result"
    }
   ],
   "source": [
    "foo"
   ]
  },
  {
   "cell_type": "code",
   "execution_count": 29,
   "metadata": {
    "collapsed": false
   },
   "outputs": [
    {
     "data": {
      "text/plain": [
       "array([False, False,  True,  True,  True,  True,  True,  True, False,  True], dtype=bool)"
      ]
     },
     "execution_count": 29,
     "metadata": {},
     "output_type": "execute_result"
    }
   ],
   "source": [
    "mask2 = foo.min(axis=1) < 10\n",
    "mask2"
   ]
  },
  {
   "cell_type": "code",
   "execution_count": 30,
   "metadata": {
    "collapsed": false
   },
   "outputs": [
    {
     "data": {
      "text/plain": [
       "array([[43,  3, 26, 48,  7],\n",
       "       [ 3, 42,  9, 22, 38],\n",
       "       [41, 41,  9, 25, 35],\n",
       "       [49,  1, 47, 10, 28],\n",
       "       [10,  4, 29, 42,  9],\n",
       "       [ 5, 35, 19, 15, 29],\n",
       "       [ 7,  6, 10, 27, 11]])"
      ]
     },
     "execution_count": 30,
     "metadata": {},
     "output_type": "execute_result"
    }
   ],
   "source": [
    "foo[mask2]"
   ]
  },
  {
   "cell_type": "code",
   "execution_count": null,
   "metadata": {
    "collapsed": true
   },
   "outputs": [],
   "source": []
  },
  {
   "cell_type": "code",
   "execution_count": null,
   "metadata": {
    "collapsed": true
   },
   "outputs": [],
   "source": []
  },
  {
   "cell_type": "code",
   "execution_count": null,
   "metadata": {
    "collapsed": true
   },
   "outputs": [],
   "source": []
  },
  {
   "cell_type": "code",
   "execution_count": null,
   "metadata": {
    "collapsed": true
   },
   "outputs": [],
   "source": []
  },
  {
   "cell_type": "code",
   "execution_count": null,
   "metadata": {
    "collapsed": true
   },
   "outputs": [],
   "source": []
  },
  {
   "cell_type": "code",
   "execution_count": null,
   "metadata": {
    "collapsed": true
   },
   "outputs": [],
   "source": []
  },
  {
   "cell_type": "code",
   "execution_count": null,
   "metadata": {
    "collapsed": true
   },
   "outputs": [],
   "source": []
  },
  {
   "cell_type": "code",
   "execution_count": null,
   "metadata": {
    "collapsed": true
   },
   "outputs": [],
   "source": []
  }
 ],
 "metadata": {
  "kernelspec": {
   "display_name": "Python 2",
   "language": "python",
   "name": "python2"
  },
  "language_info": {
   "codemirror_mode": {
    "name": "ipython",
    "version": 2
   },
   "file_extension": ".py",
   "mimetype": "text/x-python",
   "name": "python",
   "nbconvert_exporter": "python",
   "pygments_lexer": "ipython2",
   "version": "2.7.13"
  }
 },
 "nbformat": 4,
 "nbformat_minor": 0
}
